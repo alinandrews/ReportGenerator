{
 "cells": [
  {
   "cell_type": "code",
   "execution_count": 1,
   "metadata": {},
   "outputs": [],
   "source": [
    "import pandas as pd\n",
    "import numpy as np\n",
    "import xlsxwriter as xl"
   ]
  },
  {
   "cell_type": "code",
   "execution_count": 2,
   "metadata": {},
   "outputs": [],
   "source": [
    "# Processing the excel files \n",
    "df = pd.read_excel('Nov_2019_V1.xlsx', sheet_name = 'Job Ledger Entries')\n",
    "\n",
    "resoruces = pd.read_csv(\"Resources.csv\")\n",
    "resoruces.rename(columns = {\"Id\" : \"No.\"}, inplace = True)\n",
    "resourcesIDs = resoruces[[\"No.\",\"Name\"]]"
   ]
  },
  {
   "cell_type": "code",
   "execution_count": 3,
   "metadata": {},
   "outputs": [],
   "source": [
    "# Arranging the columns details\n",
    "array = df.columns\n",
    "for s in array:\n",
    "    if \"help\" in s.lower():\n",
    "        df.rename(columns = {s : \"Helpdesk\"}, inplace = True)\n",
    "    elif \"bill\" in s.lower():\n",
    "        df.rename(columns = {s : \"Billable/Non-Billable\"}, inplace = True)\n",
    "\n",
    "# Creating the first graph dataset\n",
    "help = df[df[\"Helpdesk\"]== True].groupby(\"No.\").count().index\n",
    "help_quantiy = df[df[\"Helpdesk\"]== True].groupby(\"No.\").sum()[\"Quantity\"]\n",
    "\n",
    "otherBillable = df[(df[\"Billable/Non-Billable\"] == \"Billable\") & (df[\"Helpdesk\"] != True)].groupby(\"No.\").sum()[\"Quantity\"]\n",
    "nonBillable = df[(df[\"Billable/Non-Billable\"] == \"Non-Billable\")].groupby(\"No.\").sum()[\"Quantity\"]"
   ]
  },
  {
   "cell_type": "code",
   "execution_count": 4,
   "metadata": {},
   "outputs": [],
   "source": [
    "billable_df = pd.merge(help_quantiy,otherBillable,'inner',on=\"No.\")\n",
    "\n",
    "first_df = pd.merge(billable_df,nonBillable, 'inner',on=\"No.\")\n",
    "first_df[\"Total\"] = first_df[\"Quantity_x\"] + first_df[\"Quantity_y\"] + first_df[\"Quantity\"]\n",
    "first_df[\"ShiftDetails\"] = \"\"\n",
    "\n",
    "first_df.rename(columns={\"Quantity_x\":\"Helpdesk\", \"Quantity_y\":\"Other_Billable\", \"Quantity\":\"NonBillable\"}, inplace =True)\n",
    "first_df.sort_values(by=\"Helpdesk\",ascending = False, inplace = True)\n",
    "\n",
    "first_df = pd.merge(first_df,resourcesIDs,'inner', on = \"No.\")\n",
    "\n",
    "name = first_df[\"Name\"]\n",
    "first_df.insert(1,\"Names\",name)\n",
    "first_df.drop(\"Name\",axis = 1, inplace = True)\n",
    "first_df.set_index(\"No.\", inplace = True)"
   ]
  },
  {
   "cell_type": "code",
   "execution_count": 5,
   "metadata": {},
   "outputs": [],
   "source": [
    "# Creating the Second graph dataset\n",
    "second_df = pd.DataFrame(columns = [\"Helpdesk\",\"Other_Billable\",\"NonBillable\"], index = first_df.index)\n",
    "second_df[\"Helpdesk\"] = first_df[\"Helpdesk\"] / first_df[\"Total\"]\n",
    "second_df[\"Other_Billable\"] = first_df[\"Other_Billable\"] / first_df[\"Total\"]\n",
    "second_df[\"NonBillable\"] = first_df[\"NonBillable\"] / first_df[\"Total\"]\n",
    "second_df_adjusted = second_df.apply(lambda x : round(x *100,2))\n",
    "\n",
    "second_df_adjusted = pd.merge(second_df_adjusted,resourcesIDs,'inner', on = \"No.\")\n",
    "\n",
    "name = second_df_adjusted[\"Name\"]\n",
    "second_df_adjusted.insert(1,\"Names\",name)\n",
    "second_df_adjusted.drop(\"Name\",axis = 1, inplace = True)\n",
    "second_df_adjusted.set_index(\"No.\", inplace = True)"
   ]
  },
  {
   "cell_type": "code",
   "execution_count": 6,
   "metadata": {},
   "outputs": [
    {
     "name": "stdout",
     "output_type": "stream",
     "text": [
      "sheet1!$C$2:$C$11\n"
     ]
    }
   ],
   "source": [
    "# Setting up the excel writer\n",
    "writer = pd.ExcelWriter(\"HDReport_November.xlsx\", engine= \"xlsxwriter\")\n",
    "first_df.to_excel(writer,sheet_name=\"sheet1\")           \n",
    "workbook = writer.book\n",
    "sheet = writer.sheets[\"sheet1\"]\n",
    "\n",
    "# Setting up first dataframe Graph\n",
    "chart = workbook.add_chart({'type': 'column'})\n",
    "column_no = str(len(first_df.index)+2)\n",
    "\n",
    "chartseries1_excelway = \"sheet1\" + \"!\" + \"$C$2:\" + \"$C$\" + column_no\n",
    "chartseries2_excelway = \"sheet1\" + \"!\" + \"$D$2:\" + \"$D$\" + column_no\n",
    "chartseries3_excelway = \"sheet1\" + \"!\" + \"$E$2:\" + \"$E$\" + column_no\n",
    "chartseries4_excelway = \"sheet1\" + \"!\" + \"$F$2:\" + \"$F$\" + column_no\n",
    "chartCategpory = \"sheet1\" + \"!\" + \"$B$2:\" + \"$B$\" + str(len(first_df.index)+1)\n",
    "print(chartseries1_excelway)\n",
    "\n",
    "# Configure the series of the chart from the dataframe data.\n",
    "chart.add_series({ \"values\" : chartseries1_excelway, \"name\" : \"helpdesk_billable\",\"categories\" : chartCategpory, 'data_labels': {'value': True}})\n",
    "chart.add_series({ \"values\" : chartseries2_excelway, \"name\" : \"billable\", 'data_labels': {'value': True}})\n",
    "chart.add_series({ \"values\" : chartseries3_excelway, \"name\" : \"non_billable\", 'data_labels': {'value': True}})\n",
    "chart.add_series({ \"values\" : chartseries4_excelway, \"name\" : \"Total\", 'data_labels': {'value': True}})\n",
    "\n",
    "chart.set_title({\"name\" : \"Help Desk utilisation\"})\n",
    "chart.set_size({\"x_scale\": 2.5 , \"y_scale\" : 1.6})\n",
    "\n",
    "# Insert the chart into the worksheet.\n",
    "chart_cell = \"B\" + str(len(first_df.index)+4)\n",
    "sheet.insert_chart(chart_cell, chart)\n",
    "\n",
    "second_df_adjusted.to_excel(writer, sheet_name=\"sheet1\",\n",
    "             startcol=0,startrow=35)\n",
    "\n",
    "# Setting up Second dataframe Graph\n",
    "chart2 = workbook.add_chart({'type': 'column'})\n",
    "\n",
    "column_no2 = str(len(first_df.index)+36)\n",
    "chart2series1_excelway = \"sheet1\" + \"!\" + \"$C$37:\" + \"$C$\" + column_no2\n",
    "chart2series2_excelway = \"sheet1\" + \"!\" + \"$D$37:\" + \"$D$\" + column_no2\n",
    "chart2series3_excelway = \"sheet1\" + \"!\" + \"$E$37:\" + \"$E$\" + column_no2\n",
    "chart2Categpory = \"sheet1\" + \"!\" + \"$B$37:\" + \"$B$\" + column_no2\n",
    "\n",
    "chart2.add_series({ \"values\" : chart2series1_excelway, \"name\" : \"helpdesk_billable\",\"categories\" : chart2Categpory, 'data_labels': {'value': True}})\n",
    "chart2.add_series({ \"values\" : chart2series2_excelway, \"name\" : \"billable%\",'data_labels': {'value': True}})\n",
    "chart2.add_series({ \"values\" : chart2series3_excelway, \"name\" : \"non_billable%\", 'data_labels': {'value': True}})\n",
    "\n",
    "chart2.set_title({\"name\" : \"Help Desk utilisation % against Total\"})\n",
    "chart2.set_size({\"x_scale\": 2.25 , \"y_scale\" : 1.5})\n",
    "\n",
    "chart_cell = \"B\" + str(len(first_df.index)+42)\n",
    "sheet.insert_chart(chart_cell, chart2)\n",
    "writer.save()"
   ]
  }
 ],
 "metadata": {
  "kernelspec": {
   "display_name": "Python 3",
   "language": "python",
   "name": "python3"
  },
  "language_info": {
   "codemirror_mode": {
    "name": "ipython",
    "version": 3
   },
   "file_extension": ".py",
   "mimetype": "text/x-python",
   "name": "python",
   "nbconvert_exporter": "python",
   "pygments_lexer": "ipython3",
   "version": "3.7.4"
  }
 },
 "nbformat": 4,
 "nbformat_minor": 2
}
